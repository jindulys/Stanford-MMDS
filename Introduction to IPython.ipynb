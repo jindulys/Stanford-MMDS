{
 "metadata": {
  "name": "",
  "signature": "sha256:95b9b871519cd5e5f9089b9cad29592c64962632b20cab6bf236b2e77b918ea1"
 },
 "nbformat": 3,
 "nbformat_minor": 0,
 "worksheets": [
  {
   "cells": [
    {
     "cell_type": "code",
     "collapsed": false,
     "input": [
      "\"Hello\" + \" World!\""
     ],
     "language": "python",
     "metadata": {},
     "outputs": [
      {
       "metadata": {},
       "output_type": "pyout",
       "prompt_number": 3,
       "text": [
        "'Hello World!'"
       ]
      }
     ],
     "prompt_number": 3
    },
    {
     "cell_type": "markdown",
     "metadata": {},
     "source": [
      "# Chapter 1\n"
     ]
    },
    {
     "cell_type": "code",
     "collapsed": false,
     "input": [
      "from numpy import *"
     ],
     "language": "python",
     "metadata": {},
     "outputs": [],
     "prompt_number": 1
    },
    {
     "cell_type": "code",
     "collapsed": false,
     "input": [
      "v = array([1,2,3,4])"
     ],
     "language": "python",
     "metadata": {},
     "outputs": [],
     "prompt_number": 2
    },
    {
     "cell_type": "code",
     "collapsed": false,
     "input": [
      "v"
     ],
     "language": "python",
     "metadata": {},
     "outputs": [
      {
       "metadata": {},
       "output_type": "pyout",
       "prompt_number": 3,
       "text": [
        "array([1, 2, 3, 4])"
       ]
      }
     ],
     "prompt_number": 3
    },
    {
     "cell_type": "code",
     "collapsed": false,
     "input": [
      "random.rand(5,5)"
     ],
     "language": "python",
     "metadata": {},
     "outputs": [
      {
       "metadata": {},
       "output_type": "pyout",
       "prompt_number": 5,
       "text": [
        "array([[  1.71335589e-01,   1.77554645e-01,   2.68955608e-01,\n",
        "          9.67532754e-01,   1.02677220e-01],\n",
        "       [  6.69174170e-02,   4.76565037e-01,   1.36860063e-01,\n",
        "          1.05609362e-01,   6.47733317e-01],\n",
        "       [  2.88247071e-02,   7.76962024e-01,   4.90449507e-01,\n",
        "          2.40596681e-01,   1.26295488e-01],\n",
        "       [  3.71345303e-01,   3.63515050e-01,   6.56903428e-01,\n",
        "          9.66352977e-01,   4.46057843e-01],\n",
        "       [  2.51828333e-02,   2.44373838e-01,   5.99746790e-01,\n",
        "          4.65325071e-04,   6.42988345e-01]])"
       ]
      }
     ],
     "prompt_number": 5
    },
    {
     "cell_type": "code",
     "collapsed": false,
     "input": [
      "a = random.rand(6,3)\n",
      "print a.size\n",
      "a\n",
      "a.shape"
     ],
     "language": "python",
     "metadata": {},
     "outputs": [
      {
       "output_type": "stream",
       "stream": "stdout",
       "text": [
        "18\n"
       ]
      },
      {
       "metadata": {},
       "output_type": "pyout",
       "prompt_number": 8,
       "text": [
        "(6, 3)"
       ]
      }
     ],
     "prompt_number": 8
    },
    {
     "cell_type": "code",
     "collapsed": false,
     "input": [
      "A = array([1,2,3,4,5])"
     ],
     "language": "python",
     "metadata": {},
     "outputs": [],
     "prompt_number": 9
    },
    {
     "cell_type": "code",
     "collapsed": false,
     "input": [
      "A"
     ],
     "language": "python",
     "metadata": {},
     "outputs": [
      {
       "metadata": {},
       "output_type": "pyout",
       "prompt_number": 10,
       "text": [
        "array([1, 2, 3, 4, 5])"
       ]
      }
     ],
     "prompt_number": 10
    },
    {
     "cell_type": "code",
     "collapsed": false,
     "input": [
      "b = A[2:4]"
     ],
     "language": "python",
     "metadata": {},
     "outputs": [],
     "prompt_number": 11
    },
    {
     "cell_type": "code",
     "collapsed": false,
     "input": [
      "b"
     ],
     "language": "python",
     "metadata": {},
     "outputs": [
      {
       "metadata": {},
       "output_type": "pyout",
       "prompt_number": 12,
       "text": [
        "array([3, 4])"
       ]
      }
     ],
     "prompt_number": 12
    },
    {
     "cell_type": "code",
     "collapsed": false,
     "input": [
      "A= array([[n + m*10 for n in range(m+1)] for m in range(10)])"
     ],
     "language": "python",
     "metadata": {},
     "outputs": [],
     "prompt_number": 15
    },
    {
     "cell_type": "code",
     "collapsed": false,
     "input": [
      "A"
     ],
     "language": "python",
     "metadata": {},
     "outputs": [
      {
       "metadata": {},
       "output_type": "pyout",
       "prompt_number": 16,
       "text": [
        "array([[0], [10, 11], [20, 21, 22], [30, 31, 32, 33], [40, 41, 42, 43, 44],\n",
        "       [50, 51, 52, 53, 54, 55], [60, 61, 62, 63, 64, 65, 66],\n",
        "       [70, 71, 72, 73, 74, 75, 76, 77],\n",
        "       [80, 81, 82, 83, 84, 85, 86, 87, 88],\n",
        "       [90, 91, 92, 93, 94, 95, 96, 97, 98, 99]], dtype=object)"
       ]
      }
     ],
     "prompt_number": 16
    },
    {
     "cell_type": "code",
     "collapsed": false,
     "input": [
      "a1 = arange(0,5)\n",
      "a1"
     ],
     "language": "python",
     "metadata": {},
     "outputs": [
      {
       "metadata": {},
       "output_type": "pyout",
       "prompt_number": 18,
       "text": [
        "array([0, 1, 2, 3, 4])"
       ]
      }
     ],
     "prompt_number": 18
    },
    {
     "cell_type": "code",
     "collapsed": false,
     "input": [
      "a =array([[0,0,0],[1.0/2,0,0],[1.0/2,1,1]],dtype = float)\n",
      "aM = matrix(a)\n",
      "x = aM.shape[0]\n",
      "print x\n",
      "\n",
      "print aM\n",
      "b = aM[:,1]\n",
      "print b\n",
      "b1 = b+0.02\n",
      "print b1\n",
      "bs = b1 - b\n",
      "print bs"
     ],
     "language": "python",
     "metadata": {},
     "outputs": [
      {
       "output_type": "stream",
       "stream": "stdout",
       "text": [
        "3\n",
        "[[ 0.   0.   0. ]\n",
        " [ 0.5  0.   0. ]\n",
        " [ 0.5  1.   1. ]]\n",
        "[[ 0.]\n",
        " [ 0.]\n",
        " [ 1.]]\n",
        "[[ 0.02]\n",
        " [ 0.02]\n",
        " [ 1.02]]\n",
        "[[ 0.02]\n",
        " [ 0.02]\n",
        " [ 0.02]]\n"
       ]
      }
     ],
     "prompt_number": 41
    },
    {
     "cell_type": "code",
     "collapsed": false,
     "input": [
      "def computePageRank(m,old,beta):\n",
      "    \n",
      "    M = matrix(m)\n",
      "    N = M.shape[0]\n",
      "    rOld = matrix(old).T\n",
      "    rNew = beta * M *rOld\n",
      "    s = sum(rNew)\n",
      "    rNew = rNew + (1-s)/N\n",
      "    \n",
      "    delta = 0.00000001\n",
      "    t = 1\n",
      "\n",
      "    while sum(numpy.absolute(rNew - rOld)) > delta and t < 4:\n",
      "        rOld = rNew\n",
      "        rNew = beta * M * rOld\n",
      "        s = sum(rNew)\n",
      "        rNew = rNew + (3.0-s)/N\n",
      "        t = t+1\n",
      "        \n",
      "    print rNew\n",
      "    \n",
      "\n",
      "m = array([[0,0,1.0],[1.0/2,0,0],[1.0/2,1.0,0]])\n",
      "beta = 1.0\n",
      "old = array([3.0/3,3.0/3,3.0/3])\n",
      "computePageRank(m,old,beta)\n",
      "\n",
      "    \n"
     ],
     "language": "python",
     "metadata": {},
     "outputs": [
      {
       "output_type": "stream",
       "stream": "stdout",
       "text": [
        "[[ 1.58333333]\n",
        " [ 0.33333333]\n",
        " [ 1.08333333]]\n"
       ]
      }
     ],
     "prompt_number": 57
    },
    {
     "cell_type": "code",
     "collapsed": false,
     "input": [
      "\n",
      "def computePageRank(m,old,beta):\n",
      "    \n",
      "    M = matrix(m)\n",
      "    rOld = matrix(old).T\n",
      "    rNew = beta * M *rOld\n",
      "    \n",
      "    delta = 0.00000001\n",
      "    t = 1\n",
      "\n",
      "    while sum(numpy.absolute(rNew - rOld)) > delta and t < 4:\n",
      "        rOld = rNew\n",
      "        rNew = beta * M * rOld\n",
      "        t = t+1\n",
      "        \n",
      "    print rNew\n",
      "    \n",
      "\n",
      "m = array([[0,0,1.0],[1.0/2,0,0],[1.0/2,1.0,0]])\n",
      "beta = 1.0\n",
      "old = array([3.0/3,3.0/3,3.0/3])\n",
      "computePageRank(m,old,beta)"
     ],
     "language": "python",
     "metadata": {},
     "outputs": [
      {
       "output_type": "stream",
       "stream": "stdout",
       "text": [
        "[[ 1.25]\n",
        " [ 0.5 ]\n",
        " [ 1.25]]\n"
       ]
      }
     ],
     "prompt_number": 59
    },
    {
     "cell_type": "code",
     "collapsed": false,
     "input": [],
     "language": "python",
     "metadata": {},
     "outputs": []
    }
   ],
   "metadata": {}
  }
 ]
}